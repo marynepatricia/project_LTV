{
 "cells": [
  {
   "cell_type": "code",
   "execution_count": 22,
   "id": "80998cc2-4e23-4e3e-800e-520d05998fdf",
   "metadata": {},
   "outputs": [],
   "source": [
    "# Importando bibliotecas\n",
    "\n",
    "import pandas as pd \n",
    "import numpy as np \n",
    "import matplotlib.pylab as plt\n",
    "import os\n",
    "from sklearn.model_selection import train_test_split\n",
    "from sklearn.linear_model import LinearRegression\n",
    "import sklearn.metrics"
   ]
  },
  {
   "cell_type": "code",
   "execution_count": 23,
   "id": "35c8ed6b-25c9-43de-b9cf-c217e7989a61",
   "metadata": {},
   "outputs": [
    {
     "data": {
      "text/html": [
       "<div>\n",
       "<style scoped>\n",
       "    .dataframe tbody tr th:only-of-type {\n",
       "        vertical-align: middle;\n",
       "    }\n",
       "\n",
       "    .dataframe tbody tr th {\n",
       "        vertical-align: top;\n",
       "    }\n",
       "\n",
       "    .dataframe thead th {\n",
       "        text-align: right;\n",
       "    }\n",
       "</style>\n",
       "<table border=\"1\" class=\"dataframe\">\n",
       "  <thead>\n",
       "    <tr style=\"text-align: right;\">\n",
       "      <th></th>\n",
       "      <th>USER_ID</th>\n",
       "      <th>Mes_1</th>\n",
       "      <th>Mes_2</th>\n",
       "      <th>Mes_3</th>\n",
       "      <th>Mes_4</th>\n",
       "      <th>Mes_5</th>\n",
       "      <th>Mes_6</th>\n",
       "      <th>LTV</th>\n",
       "    </tr>\n",
       "  </thead>\n",
       "  <tbody>\n",
       "    <tr>\n",
       "      <th>0</th>\n",
       "      <td>SB1001</td>\n",
       "      <td>143</td>\n",
       "      <td>68</td>\n",
       "      <td>193</td>\n",
       "      <td>93</td>\n",
       "      <td>168</td>\n",
       "      <td>68</td>\n",
       "      <td>13118</td>\n",
       "    </tr>\n",
       "    <tr>\n",
       "      <th>1</th>\n",
       "      <td>SB1002</td>\n",
       "      <td>18</td>\n",
       "      <td>43</td>\n",
       "      <td>143</td>\n",
       "      <td>193</td>\n",
       "      <td>168</td>\n",
       "      <td>193</td>\n",
       "      <td>9368</td>\n",
       "    </tr>\n",
       "    <tr>\n",
       "      <th>2</th>\n",
       "      <td>SB1003</td>\n",
       "      <td>68</td>\n",
       "      <td>143</td>\n",
       "      <td>0</td>\n",
       "      <td>18</td>\n",
       "      <td>68</td>\n",
       "      <td>18</td>\n",
       "      <td>5149</td>\n",
       "    </tr>\n",
       "    <tr>\n",
       "      <th>3</th>\n",
       "      <td>SB1004</td>\n",
       "      <td>193</td>\n",
       "      <td>184</td>\n",
       "      <td>18</td>\n",
       "      <td>93</td>\n",
       "      <td>68</td>\n",
       "      <td>143</td>\n",
       "      <td>11749</td>\n",
       "    </tr>\n",
       "    <tr>\n",
       "      <th>4</th>\n",
       "      <td>SB1005</td>\n",
       "      <td>210</td>\n",
       "      <td>187</td>\n",
       "      <td>118</td>\n",
       "      <td>68</td>\n",
       "      <td>168</td>\n",
       "      <td>193</td>\n",
       "      <td>15518</td>\n",
       "    </tr>\n",
       "  </tbody>\n",
       "</table>\n",
       "</div>"
      ],
      "text/plain": [
       "  USER_ID  Mes_1  Mes_2  Mes_3  Mes_4  Mes_5  Mes_6    LTV\n",
       "0  SB1001    143     68    193     93    168     68  13118\n",
       "1  SB1002     18     43    143    193    168    193   9368\n",
       "2  SB1003     68    143      0     18     68     18   5149\n",
       "3  SB1004    193    184     18     93     68    143  11749\n",
       "4  SB1005    210    187    118     68    168    193  15518"
      ]
     },
     "execution_count": 23,
     "metadata": {},
     "output_type": "execute_result"
    }
   ],
   "source": [
    "# gravando os dados\n",
    "\n",
    "raw_data = pd.read_csv('starbucks.csv')\n",
    "raw_data.head()"
   ]
  },
  {
   "cell_type": "code",
   "execution_count": 24,
   "id": "d56c0617-599d-40b1-813a-646619fb420a",
   "metadata": {},
   "outputs": [
    {
     "data": {
      "text/plain": [
       "Mes_1    0.747470\n",
       "Mes_2    0.315811\n",
       "Mes_3    0.393450\n",
       "Mes_4    0.280002\n",
       "Mes_5    0.368906\n",
       "Mes_6    0.370982\n",
       "LTV      1.000000\n",
       "Name: LTV, dtype: float64"
      ]
     },
     "execution_count": 24,
     "metadata": {},
     "output_type": "execute_result"
    }
   ],
   "source": [
    "# Entendo a correlação entre os 6 primeiros meses de dados com o LTV\n",
    "\n",
    "# eliminando primeria coluna (user_id) que não tem relação com os dados necessários\n",
    "\n",
    "cleaned_data = raw_data.drop('USER_ID', axis = 1)\n",
    "\n",
    "\n",
    "# calculando a correlação\n",
    "\n",
    "cleaned_data.corr()['LTV']"
   ]
  },
  {
   "cell_type": "code",
   "execution_count": 25,
   "id": "1c4517eb-7102-439d-ad51-a613e595c214",
   "metadata": {},
   "outputs": [
    {
     "name": "stdout",
     "output_type": "stream",
     "text": [
      "Predictor - Training:  (77, 6)\n",
      "Predictor - Testing: (9, 6)\n"
     ]
    }
   ],
   "source": [
    "# Fazendo uma divisão dos dados de treinamento e teste na proporção 90:10\n",
    "\n",
    "predictors = cleaned_data.drop('LTV', axis=1)\n",
    "targets = cleaned_data.LTV\n",
    "\n",
    "pred_train, pred_test, tar_train, tar_test = train_test_split(predictors, targets, test_size = .1)\n",
    "print('Predictor - Training: ', pred_train.shape)\n",
    "print('Predictor - Testing:', pred_test.shape)"
   ]
  },
  {
   "cell_type": "code",
   "execution_count": 27,
   "id": "83940c18-3ff2-467f-8a4d-2816d55b462a",
   "metadata": {},
   "outputs": [
    {
     "name": "stdout",
     "output_type": "stream",
     "text": [
      "Coefficients: [34.52234854 11.37998148 15.47057825 11.40720553  6.97989211  6.95212362]\n",
      "Intercept: 465.6941046314969\n"
     ]
    },
    {
     "data": {
      "text/plain": [
       "0.9392999667412305"
      ]
     },
     "execution_count": 27,
     "metadata": {},
     "output_type": "execute_result"
    }
   ],
   "source": [
    "# construção de uma equação de regressão linear para prever o LTV \n",
    "\n",
    "# construindo o modelo com dados de treinamento\n",
    "\n",
    "model = LinearRegression()\n",
    "model.fit(pred_train, tar_train)\n",
    "print('Coefficients:', model.coef_)\n",
    "print('Intercept:', model.intercept_)\n",
    "\n",
    "# Testar nos dados de teste\n",
    "\n",
    "predictions = model.predict(pred_test)\n",
    "predictions\n",
    "\n",
    "sklearn.metrics.r2_score(tar_test, predictions)"
   ]
  },
  {
   "cell_type": "code",
   "execution_count": 33,
   "id": "23882540-af48-4295-9fe8-fe32ca1cde9e",
   "metadata": {},
   "outputs": [
    {
     "name": "stdout",
     "output_type": "stream",
     "text": [
      "O LTV deste conumidor é: 6911.126489819357\n"
     ]
    },
    {
     "name": "stderr",
     "output_type": "stream",
     "text": [
      "C:\\Users\\maryn\\anaconda3\\lib\\site-packages\\sklearn\\base.py:450: UserWarning: X does not have valid feature names, but LinearRegression was fitted with feature names\n",
      "  warnings.warn(\n"
     ]
    }
   ],
   "source": [
    "# Prevendo o que acontece quando chega um novo cliente\n",
    "\n",
    "# situação: Foi cadastrado um cliente novo, e só tem informações sobre o gasto dos três primeiros meses. \n",
    "# Calcular o LTV com base no modelo de regressão gerado e nos dados disponíveis\n",
    "\n",
    "new_data = np.array([120, 80, 90, 0, 0, 0]).reshape(1, -1)\n",
    "new_pred = model.predict(new_data)\n",
    "print('O LTV deste conumidor é:', new_pred[0])"
   ]
  },
  {
   "cell_type": "code",
   "execution_count": null,
   "id": "acb968f3-ef69-47a0-9e9d-5491a6362380",
   "metadata": {},
   "outputs": [],
   "source": []
  }
 ],
 "metadata": {
  "kernelspec": {
   "display_name": "Python 3 (ipykernel)",
   "language": "python",
   "name": "python3"
  },
  "language_info": {
   "codemirror_mode": {
    "name": "ipython",
    "version": 3
   },
   "file_extension": ".py",
   "mimetype": "text/x-python",
   "name": "python",
   "nbconvert_exporter": "python",
   "pygments_lexer": "ipython3",
   "version": "3.9.13"
  }
 },
 "nbformat": 4,
 "nbformat_minor": 5
}
